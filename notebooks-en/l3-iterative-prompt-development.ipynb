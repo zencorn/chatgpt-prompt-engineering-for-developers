{
 "cells": [
  {
   "attachments": {},
   "cell_type": "markdown",
   "metadata": {},
   "source": [
    "[![Open In Colab](https://colab.research.google.com/assets/colab-badge.svg)](https://colab.research.google.com/github/GitHubDaily/ChatGPT-Prompt-Engineering-for-Developers-in-Chinese/blob/master/assets/3-Iterative/l3-iterative-prompt-development.ipynb)\n",
    "# Iterative Prompt Develelopment\n",
    "In this lesson, you'll iteratively analyze and refine your prompts to generate marketing copy from a product fact sheet.\n",
    "\n",
    "## Setup"
   ]
  },
  {
   "cell_type": "code",
   "execution_count": null,
   "metadata": {},
   "outputs": [],
   "source": [
    "# Basic congfig \n",
    "# Install basic package and set key\n",
    "!pip install openai\n",
    "!export OPENAI_API_KEY='sk-...'"
   ]
  },
  {
   "cell_type": "code",
   "execution_count": 1,
   "metadata": {},
   "outputs": [],
   "source": [
    "import openai\n",
    "import os\n",
    "\n",
    "from dotenv import load_dotenv, find_dotenv\n",
    "_ = load_dotenv(find_dotenv()) # read local .env file\n",
    "\n",
    "openai.api_key  = os.getenv('OPENAI_API_KEY')"
   ]
  },
  {
   "cell_type": "code",
   "execution_count": 2,
   "metadata": {},
   "outputs": [],
   "source": [
    "def get_completion(prompt):\n",
    "    \n",
    "    response = openai.chat.completions.create(\n",
    "    messages=[\n",
    "        {\n",
    "            \"role\": \"user\",\n",
    "            # \"content\": \"我是否已经成功与你的Chat API建立了连接？如果是，请告诉我你的数据最新日期\"\n",
    "            # \"content\": \"开发一个支持UI交互的Web应用程序，用于展示和编辑展示的数据，用什么技术比较好。请提供一个样例代码。\" \n",
    "            \"content\": prompt\n",
    "        }\n",
    "    ],\n",
    "#    model=\"gpt-3.5-turbo\",\n",
    "     model=\"gpt-4-turbo\",\n",
    "    # model=\"gpt-3.5-turbo-1106\",\n",
    "    )\n",
    "    return response.choices[0].message.content"
   ]
  },
  {
   "attachments": {},
   "cell_type": "markdown",
   "metadata": {},
   "source": [
    "Generate a marketing product description from a product fact sheet"
   ]
  },
  {
   "cell_type": "code",
   "execution_count": 5,
   "metadata": {},
   "outputs": [],
   "source": [
    "fact_sheet_chair = \"\"\"\n",
    "OVERVIEW\n",
    "- Part of a beautiful family of mid-century inspired office furniture, \n",
    "including filing cabinets, desks, bookcases, meeting tables, and more.\n",
    "- Several options of shell color and base finishes.\n",
    "- Available with plastic back and front upholstery (SWC-100) \n",
    "or full upholstery (SWC-110) in 10 fabric and 6 leather options.\n",
    "- Base finish options are: stainless steel, matte black, \n",
    "gloss white, or chrome.\n",
    "- Chair is available with or without armrests.\n",
    "- Suitable for home or business settings.\n",
    "- Qualified for contract use.\n",
    "\n",
    "CONSTRUCTION\n",
    "- 5-wheel plastic coated aluminum base.\n",
    "- Pneumatic chair adjust for easy raise/lower action.\n",
    "\n",
    "DIMENSIONS\n",
    "- WIDTH 53 CM | 20.87”\n",
    "- DEPTH 51 CM | 20.08”\n",
    "- HEIGHT 80 CM | 31.50”\n",
    "- SEAT HEIGHT 44 CM | 17.32”\n",
    "- SEAT DEPTH 41 CM | 16.14”\n",
    "\n",
    "OPTIONS\n",
    "- Soft or hard-floor caster options.\n",
    "- Two choices of seat foam densities: \n",
    " medium (1.8 lb/ft3) or high (2.8 lb/ft3)\n",
    "- Armless or 8 position PU armrests \n",
    "\n",
    "MATERIALS\n",
    "SHELL BASE GLIDER\n",
    "- Cast Aluminum with modified nylon PA6/PA66 coating.\n",
    "- Shell thickness: 10 mm.\n",
    "SEAT\n",
    "- HD36 foam\n",
    "\n",
    "COUNTRY OF ORIGIN\n",
    "- Italy\n",
    "\"\"\""
   ]
  },
  {
   "cell_type": "code",
   "execution_count": 6,
   "metadata": {},
   "outputs": [
    {
     "name": "stdout",
     "output_type": "stream",
     "text": [
      "Introducing our chic, mid-century inspired office furniture range that merges timeless design with modern functionality. Perfect for both home and business settings, and qualified for contract use, this premium collection includes everything from filing cabinets to desks, bookcases, meeting tables, and our versatile office chairs.\n",
      "\n",
      "Our office chairs come in two main designs: with plastic back and front upholstery (model SWC-100) or fully upholstered (model SWC-110), catering to various preferences and needs. Choose from an array of 10 fabric and 6 leather options to perfectly match your space. The chairs' bases are customizable with finishes in stainless steel, matte black, gloss white, or chrome, allowing you to personalize the look further.\n",
      "\n",
      "The ergonomic design includes a 5-wheel plastic coated aluminum base and a pneumatic chair adjustment feature for effortless height alteration. Each chair measures 53 cm in width, 51 cm in depth, and 80 cm in height, with a comfortable seat depth of 41 cm. Additionally, these chairs can be adapted with soft or hard-floor casters and are available with two choices of foam densities for the seat - medium or high - ensuring utmost comfort. Whether you prefer streamlined simplicity or the added support of 8-position adjustable PU armrests, our chairs can accommodate your preference.\n",
      "\n",
      "Crafted in Italy with careful attention to detail and durability, the chair features a robust 10 mm thick shell base made from cast aluminum with a modified nylon PA6/PA66 coating. This chair not only exudes style but promises long-lasting quality and functionality in any setting.\n",
      "\n",
      "Elevate your workspace with our sophisticated, configurable office chairs and experience a blend of classic design and contemporary comfort.\n"
     ]
    }
   ],
   "source": [
    "prompt = f\"\"\"\n",
    "Your task is to help a marketing team create a \n",
    "description for a retail website of a product based \n",
    "on a technical fact sheet.\n",
    "\n",
    "Write a product description based on the information \n",
    "provided in the technical specifications delimited by \n",
    "triple backticks.\n",
    "\n",
    "Technical specifications: ```{fact_sheet_chair}```\n",
    "\"\"\"\n",
    "response = get_completion(prompt)\n",
    "print(response)\n"
   ]
  },
  {
   "attachments": {},
   "cell_type": "markdown",
   "metadata": {},
   "source": [
    "## Issue 1: The text is too long \n",
    "- Limit the number of words/sentences/characters."
   ]
  },
  {
   "cell_type": "code",
   "execution_count": 7,
   "metadata": {},
   "outputs": [
    {
     "name": "stdout",
     "output_type": "stream",
     "text": [
      "Elevate your workspace with our mid-century inspired office chair, available in a variety of shell colors and base finishes. Choose from fully upholstered or plastic-backed models, with optional armrests. Enjoy customizable comfort with adjustable seat height and foam density options. Perfect for both home and business.\n"
     ]
    }
   ],
   "source": [
    "prompt = f\"\"\"\n",
    "Your task is to help a marketing team create a \n",
    "description for a retail website of a product based \n",
    "on a technical fact sheet.\n",
    "\n",
    "Write a product description based on the information \n",
    "provided in the technical specifications delimited by \n",
    "triple backticks.\n",
    "\n",
    "Use at most 50 words.\n",
    "\n",
    "Technical specifications: ```{fact_sheet_chair}```\n",
    "\"\"\"\n",
    "response = get_completion(prompt)\n",
    "print(response)"
   ]
  },
  {
   "cell_type": "code",
   "execution_count": 8,
   "metadata": {},
   "outputs": [
    {
     "data": {
      "text/plain": [
       "321"
      ]
     },
     "execution_count": 8,
     "metadata": {},
     "output_type": "execute_result"
    }
   ],
   "source": [
    "len(response)"
   ]
  },
  {
   "attachments": {},
   "cell_type": "markdown",
   "metadata": {},
   "source": [
    "## Issue 2. Text focuses on the wrong details\n",
    "- Ask it to focus on the aspects that are relevant to the intended audience."
   ]
  },
  {
   "cell_type": "code",
   "execution_count": 9,
   "metadata": {},
   "outputs": [
    {
     "name": "stdout",
     "output_type": "stream",
     "text": [
      "This mid-century-inspired office chair is constructed with a 10mm thick, cast aluminum shell featuring a modified nylon PA6/PA66 coating. Available in various base finishes, including stainless steel and chrome. Options include armless or 8-position PU armrests and soft or hard-floor casters. Seat upholstered in 10 fabric or 6 leather choices, padded with HD36 foam for superior comfort. Suitable for both home and business environments and qualified for contract use. Made in Italy.\n"
     ]
    }
   ],
   "source": [
    "prompt = f\"\"\"\n",
    "Your task is to help a marketing team create a \n",
    "description for a retail website of a product based \n",
    "on a technical fact sheet.\n",
    "\n",
    "Write a product description based on the information \n",
    "provided in the technical specifications delimited by \n",
    "triple backticks.\n",
    "\n",
    "The description is intended for furniture retailers, \n",
    "so should be technical in nature and focus on the \n",
    "materials the product is constructed from.\n",
    "\n",
    "Use at most 50 words.\n",
    "\n",
    "Technical specifications: ```{fact_sheet_chair}```\n",
    "\"\"\"\n",
    "response = get_completion(prompt)\n",
    "print(response) "
   ]
  },
  {
   "cell_type": "code",
   "execution_count": 10,
   "metadata": {},
   "outputs": [
    {
     "name": "stdout",
     "output_type": "stream",
     "text": [
      "Experience the perfect blend of style and functionality with our mid-century inspired office chairs. Constructed with a durable Cast Aluminum base and HD36 foam seating, these chairs offer customization with various upholstery options and finishes. Ideal for both home and office settings, these chairs meet contract standards for quality assurance.\n",
      "\n",
      "Product IDs: SWC-100, SWC-110.\n"
     ]
    }
   ],
   "source": [
    "prompt = f\"\"\"\n",
    "Your task is to help a marketing team create a \n",
    "description for a retail website of a product based \n",
    "on a technical fact sheet.\n",
    "\n",
    "Write a product description based on the information \n",
    "provided in the technical specifications delimited by \n",
    "triple backticks.\n",
    "\n",
    "The description is intended for furniture retailers, \n",
    "so should be technical in nature and focus on the \n",
    "materials the product is constructed from.\n",
    "\n",
    "At the end of the description, include every 7-character \n",
    "Product ID in the technical specification.\n",
    "\n",
    "Use at most 50 words.\n",
    "\n",
    "Technical specifications: ```{fact_sheet_chair}```\n",
    "\"\"\"\n",
    "response = get_completion(prompt)\n",
    "print(response) "
   ]
  },
  {
   "attachments": {},
   "cell_type": "markdown",
   "metadata": {},
   "source": [
    "## Issue 3. Description needs a table of dimensions\n",
    "- Ask it to extract information and organize it in a table."
   ]
  },
  {
   "cell_type": "code",
   "execution_count": 11,
   "metadata": {},
   "outputs": [
    {
     "name": "stdout",
     "output_type": "stream",
     "text": [
      "<div>\n",
      "<p>Introducing our premium mid-century inspired office furniture chair, designed to be both functional and aesthetically pleasing, suitable for both home and business environments. This chair is part of an extensive family of office furniture that includes filing cabinets, desks, bookcases, and meeting tables, allowing for seamless integration in any workspace setup. The chair offers various customizable options, including shell color and base finishes, ensuring it matches with any office decor.</p>\n",
      "<p>The chair is constructed from a durable 5-wheel plastic coated aluminum base and features a pneumatic adjustment mechanism for easy height modifications. The base finish options include stainless steel, matte black, gloss white, or chrome, giving you the flexibility to select based on your preference or existing office furnishings. The chair can be tailored even further with choices between plastic backs with front upholstery or fully upholstered variants available in 10 different fabric and 6 leather selections, as well as options for armrests—choose between armless or 8-position adjustable PU armrests.</p>\n",
      "<p>The materials used in the construction of the chair are of high quality, featuring a cast aluminum shell with a modified nylon PA6/PA66 coating for durability and a shell thickness of 10mm for sturdy support. The seat foam is crafted from HD36, allowing choices in density between medium (1.8 lb/ft<sup>3</sup>) or high (2.8 lb/ft<sup>3</sup>), catering to individual comfort preferences.</p>\n",
      "<p>This chair is qualified for contract use, incorporating a variety of options like soft or hard-floor casters, which make it a versatile and ideal choice for any professional setting.</p>\n",
      "<p>Product IDs: SWC-100, SWC-110</p>\n",
      "</div>\n",
      "\n",
      "<h3>Product Dimensions</h3>\n",
      "<table>\n",
      "    <tr>\n",
      "        <th>Dimension</th>\n",
      "        <th>Measurement (inches)</th>\n",
      "    </tr>\n",
      "    <tr>\n",
      "        <td>Width</td>\n",
      "        <td>20.87</td>\n",
      "    </tr>\n",
      "    <tr>\n",
      "        <td>Depth</td>\n",
      "        <td>20.08</td>\n",
      "    </tr>\n",
      "    <tr>\n",
      "        <td>Height</td>\n",
      "        <td>31.50</td>\n",
      "    </tr>\n",
      "    <tr>\n",
      "        <td>Seat Height</td>\n",
      "        <td>17.32</td>\n",
      "    </tr>\n",
      "    <tr>\n",
      "        <td>Seat Depth</td>\n",
      "        <td>16.14</td>\n",
      "    </tr>\n",
      "</table>\n",
      "\n"
     ]
    }
   ],
   "source": [
    "prompt = f\"\"\"\n",
    "Your task is to help a marketing team create a \n",
    "description for a retail website of a product based \n",
    "on a technical fact sheet.\n",
    "\n",
    "Write a product description based on the information \n",
    "provided in the technical specifications delimited by \n",
    "triple backticks.\n",
    "\n",
    "The description is intended for furniture retailers, \n",
    "so should be technical in nature and focus on the \n",
    "materials the product is constructed from.\n",
    "\n",
    "At the end of the description, include every 7-character \n",
    "Product ID in the technical specification.\n",
    "\n",
    "After the description, include a table that gives the \n",
    "product's dimensions. The table should have two columns.\n",
    "In the first column include the name of the dimension. \n",
    "In the second column include the measurements in inches only.\n",
    "\n",
    "Give the table the title 'Product Dimensions'.\n",
    "\n",
    "Format everything as HTML that can be used in a website. \n",
    "Place the description in a <div> element.\n",
    "\n",
    "Technical specifications: ```{fact_sheet_chair}```\n",
    "\"\"\"\n",
    "\n",
    "response = get_completion(prompt)\n",
    "print(response)"
   ]
  },
  {
   "attachments": {},
   "cell_type": "markdown",
   "metadata": {},
   "source": [
    "## Load Python libraries to view HTML"
   ]
  },
  {
   "cell_type": "code",
   "execution_count": 12,
   "metadata": {},
   "outputs": [],
   "source": [
    "from IPython.display import display, HTML"
   ]
  },
  {
   "cell_type": "code",
   "execution_count": 13,
   "metadata": {},
   "outputs": [
    {
     "data": {
      "text/html": [
       "<div>\n",
       "<p>Introducing our premium mid-century inspired office furniture chair, designed to be both functional and aesthetically pleasing, suitable for both home and business environments. This chair is part of an extensive family of office furniture that includes filing cabinets, desks, bookcases, and meeting tables, allowing for seamless integration in any workspace setup. The chair offers various customizable options, including shell color and base finishes, ensuring it matches with any office decor.</p>\n",
       "<p>The chair is constructed from a durable 5-wheel plastic coated aluminum base and features a pneumatic adjustment mechanism for easy height modifications. The base finish options include stainless steel, matte black, gloss white, or chrome, giving you the flexibility to select based on your preference or existing office furnishings. The chair can be tailored even further with choices between plastic backs with front upholstery or fully upholstered variants available in 10 different fabric and 6 leather selections, as well as options for armrests—choose between armless or 8-position adjustable PU armrests.</p>\n",
       "<p>The materials used in the construction of the chair are of high quality, featuring a cast aluminum shell with a modified nylon PA6/PA66 coating for durability and a shell thickness of 10mm for sturdy support. The seat foam is crafted from HD36, allowing choices in density between medium (1.8 lb/ft<sup>3</sup>) or high (2.8 lb/ft<sup>3</sup>), catering to individual comfort preferences.</p>\n",
       "<p>This chair is qualified for contract use, incorporating a variety of options like soft or hard-floor casters, which make it a versatile and ideal choice for any professional setting.</p>\n",
       "<p>Product IDs: SWC-100, SWC-110</p>\n",
       "</div>\n",
       "\n",
       "<h3>Product Dimensions</h3>\n",
       "<table>\n",
       "    <tr>\n",
       "        <th>Dimension</th>\n",
       "        <th>Measurement (inches)</th>\n",
       "    </tr>\n",
       "    <tr>\n",
       "        <td>Width</td>\n",
       "        <td>20.87</td>\n",
       "    </tr>\n",
       "    <tr>\n",
       "        <td>Depth</td>\n",
       "        <td>20.08</td>\n",
       "    </tr>\n",
       "    <tr>\n",
       "        <td>Height</td>\n",
       "        <td>31.50</td>\n",
       "    </tr>\n",
       "    <tr>\n",
       "        <td>Seat Height</td>\n",
       "        <td>17.32</td>\n",
       "    </tr>\n",
       "    <tr>\n",
       "        <td>Seat Depth</td>\n",
       "        <td>16.14</td>\n",
       "    </tr>\n",
       "</table>\n"
      ],
      "text/plain": [
       "<IPython.core.display.HTML object>"
      ]
     },
     "metadata": {},
     "output_type": "display_data"
    }
   ],
   "source": [
    "display(HTML(response))"
   ]
  }
 ],
 "metadata": {
  "kernelspec": {
   "display_name": "gpt_index",
   "language": "python",
   "name": "python3"
  },
  "language_info": {
   "codemirror_mode": {
    "name": "ipython",
    "version": 3
   },
   "file_extension": ".py",
   "mimetype": "text/x-python",
   "name": "python",
   "nbconvert_exporter": "python",
   "pygments_lexer": "ipython3",
   "version": "3.11.9"
  },
  "orig_nbformat": 4
 },
 "nbformat": 4,
 "nbformat_minor": 2
}
